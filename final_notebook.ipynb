{
 "cells": [
  {
   "attachments": {},
   "cell_type": "markdown",
   "metadata": {},
   "source": [
    "# insert titel of code\n",
    "\n",
    "generic intro text"
   ]
  },
  {
   "attachments": {},
   "cell_type": "markdown",
   "metadata": {},
   "source": [
    "## imports"
   ]
  },
  {
   "attachments": {},
   "cell_type": "markdown",
   "metadata": {},
   "source": [
    "### Libraries"
   ]
  },
  {
   "cell_type": "code",
   "execution_count": 1,
   "metadata": {},
   "outputs": [],
   "source": [
    "import pickle\n",
    "import torch\n",
    "import matplotlib.pyplot as plt\n",
    "import argparse"
   ]
  },
  {
   "attachments": {},
   "cell_type": "markdown",
   "metadata": {},
   "source": [
    "### Custom scripts"
   ]
  },
  {
   "cell_type": "code",
   "execution_count": 2,
   "metadata": {},
   "outputs": [],
   "source": [
    "# from scripts.args import *\n",
    "from scripts.base_model.preprocessing import *\n",
    "from scripts.base_model.train_base import *\n",
    "from scripts.base_model.models import *\n",
    "from scripts.evaluation.eval_model import *\n",
    "from scripts.evaluation.get_results import *\n",
    "from scripts.CEF_model.CEF_model import *\n",
    "from scripts.CEF_model.train_CEF import *\n",
    "from scripts.additional_work.beta_testing import *"
   ]
  },
  {
   "attachments": {},
   "cell_type": "markdown",
   "metadata": {},
   "source": [
    "## Args"
   ]
  },
  {
   "attachments": {},
   "cell_type": "markdown",
   "metadata": {},
   "source": [
    "### args preprocessing\n",
    "\n",
    "sentires_dir    =       location of the preprocessed data. \\\n",
    "review_dir      =       location of the json dataset \\\n",
    "user_thresh     =       how many reviews a user needs to have \\\n",
    "item_thresh     =       how many reviews an item has to have \\\n",
    "sample_ratio    =       \\\n",
    "test_length     =       how many items in the test set. \\\n",
    "neg_length      =       amount of negative items. \\\n",
    "save_path       =       where the dataset object will be saved. \\\n",
    "user_pre        =       wether or not to use a pre created dataset. If this value is true it will use                     the data stroted in save_path."
   ]
  },
  {
   "cell_type": "code",
   "execution_count": 3,
   "metadata": {},
   "outputs": [],
   "source": [
    "def arg_parser_preprocessing():\n",
    "    parser = argparse.ArgumentParser()\n",
    "    parser.add_argument(\"--sentires_dir\", dest=\"sentires_dir\", type=str, default=\"data/input_data/reviews_with_features.txt\", \n",
    "                        help=\"path to sentires data\")\n",
    "    parser.add_argument(\"--review_dir\", dest=\"review_dir\", type=str, default=\"data/input_data/reviews_Electronics_5_filtered.json\", \n",
    "                        help=\"path to original review data\")\n",
    "    parser.add_argument(\"--user_thresh\", dest=\"user_thresh\", type=int, default=20, \n",
    "                        help=\"remove users with reviews less than this threshold\")\n",
    "    parser.add_argument(\"--item_thresh\", dest=\"item_thresh\", type=int, default=10, \n",
    "                        help=\"remove users with reviews less than this threshold\")\n",
    "    parser.add_argument(\"--sample_ratio\", dest=\"sample_ratio\", type=int, default=2, \n",
    "                        help=\"the (negative: positive sample) ratio for training BPR loss\")\n",
    "    parser.add_argument(\"--test_length\", dest=\"test_length\", type=int, default=5, \n",
    "                        help=\"the number of test items\")\n",
    "    parser.add_argument(\"--neg_length\", dest=\"neg_length\", type=int, default=100, help=\"# of negative samples in evaluation\")\n",
    "    parser.add_argument(\"--save_path\", dest=\"save_path\", type=str, default=\"data/preprocessed_data/dataset.pickle\", \n",
    "                        help=\"The path to save the preprocessed dataset object\")\n",
    "    parser.add_argument(\"--use_pre\", dest=\"use_pre\", type=str, default=True, \n",
    "            help=\"Wether or not to use a stored dataset object\")\n",
    "    parser.add_argument(\"--extra_filter\", dest=\"extra_filter\", type=bool, default=False)\n",
    "    return parser.parse_known_args()"
   ]
  },
  {
   "attachments": {},
   "cell_type": "markdown",
   "metadata": {},
   "source": [
    "### args Train base model\n",
    "\n",
    "device = either cpu or cuda depending on wether you use a gpu \\\n",
    "batch_size = the batch size \\\n",
    "lr = learning rate \\\n",
    "rec_k = length of the recommendation list \\\n",
    "weight_decay = "
   ]
  },
  {
   "cell_type": "code",
   "execution_count": 4,
   "metadata": {},
   "outputs": [],
   "source": [
    "def arg_parser_training():\n",
    "    parser = argparse.ArgumentParser()\n",
    "    parser.add_argument(\"--device\", dest = \"device\", type=str, default='cpu')\n",
    "    parser.add_argument(\"--gpu\", default=False)\n",
    "    parser.add_argument(\"--batch_size\", dest=\"batch_size\", type=int, default=128)\n",
    "    parser.add_argument(\"--lr\", dest=\"lr\", type=float, default=0.01)\n",
    "    parser.add_argument(\"--rec_k\", dest=\"rec_k\", type=int, default=5, help=\"length of rec list\")\n",
    "    parser.add_argument(\"--weight_decay\", default=0., type=float) # not sure whether to use\n",
    "    parser.add_argument(\"--model_path\", dest=\"model_path\", type=str, default=\"data/models/model.model\", \n",
    "                        help=\"The path to save the model\")\n",
    "    parser.add_argument(\"--epochs\", dest=\"epochs\", type=int, default=150) #subject to change\n",
    "    parser.add_argument(\"--use_pre\", dest=\"use_pre\", type=str, default=True, \n",
    "            help=\"Wether or not to use a stored model object\")\n",
    "    return parser.parse_known_args()"
   ]
  },
  {
   "attachments": {},
   "cell_type": "markdown",
   "metadata": {},
   "source": [
    "### arg CEF"
   ]
  },
  {
   "cell_type": "code",
   "execution_count": 5,
   "metadata": {},
   "outputs": [],
   "source": [
    "# todo\n",
    "def arg_parser_CEF():\n",
    "    parser = argparse.ArgumentParser()\n",
    "    parser.add_argument(\"--device\", dest = \"device\", type=str, default='cpu')\n",
    "    parser.add_argument(\"--rec_k\", dest=\"rec_k\", type=int, default=5, help=\"length of rec list\")\n",
    "    parser.add_argument(\"--ld\", default=1, type=float) # not sure whether to use\n",
    "    parser.add_argument(\"--lr\", dest=\"lr\", type=float, default=0.01)\n",
    "    parser.add_argument(\"--model_path\", dest=\"model_path\", type=str, default=\"data/models/CEF_model.model\", \n",
    "                        help=\"The path to save the model\")\n",
    "    parser.add_argument(\"--epochs\", dest=\"epochs\", type=int, default=100)\n",
    "    parser.add_argument(\"--use_pre\", dest=\"use_pre\", type=str, default=True, \n",
    "            help=\"Wether or not to use a stored model object\")\n",
    "    return parser.parse_known_args()"
   ]
  },
  {
   "attachments": {},
   "cell_type": "markdown",
   "metadata": {},
   "source": [
    "### args get results"
   ]
  },
  {
   "cell_type": "code",
   "execution_count": 6,
   "metadata": {},
   "outputs": [],
   "source": [
    "def arg_parser_results():\n",
    "    parser = argparse.ArgumentParser()\n",
    "    parser.add_argument(\"--device\", dest = \"device\", type=str, default='cpu')\n",
    "    parser.add_argument(\"--remove_size\", dest=\"remove_size\", type=int, default=50)\n",
    "    parser.add_argument(\"--rec_k\", dest=\"rec_k\", type=int, default=5, help=\"length of rec list\")\n",
    "    parser.add_argument(\"--output_path\", dest=\"output_path\", type=str, default=\"results/result dicts/\", \n",
    "                        help=\"The path to save the model\")\n",
    "    parser.add_argument(\"--epochs\", dest=\"epochs\", type=int, default=1000)\n",
    "    parser.add_argument(\"--beta\", dest=\"beta\", type=int, default=0.1 )\n",
    "    return parser.parse_known_args()"
   ]
  },
  {
   "attachments": {},
   "cell_type": "markdown",
   "metadata": {},
   "source": [
    "## Basemodel"
   ]
  },
  {
   "cell_type": "code",
   "execution_count": 7,
   "metadata": {},
   "outputs": [],
   "source": [
    "device = \"cpu\""
   ]
  },
  {
   "attachments": {},
   "cell_type": "markdown",
   "metadata": {},
   "source": [
    "### Preprocessing"
   ]
  },
  {
   "cell_type": "code",
   "execution_count": 8,
   "metadata": {},
   "outputs": [],
   "source": [
    "# get the arguments for preprocessing\n",
    "preprocessing_args, unkown = arg_parser_preprocessing()\n",
    "# load dataset if the dataset exist\n",
    "dataset_path = preprocessing_args.save_path\n",
    "if preprocessing_args.use_pre:\n",
    "    with open(dataset_path, \"rb\") as f:\n",
    "        dataset = pickle.load(f)\n",
    "else:\n",
    "    dataset = preprocessing(preprocessing_args)\n",
    "    with open(dataset_path, \"wb\") as f:\n",
    "            pickle.dump(dataset, f)"
   ]
  },
  {
   "attachments": {},
   "cell_type": "markdown",
   "metadata": {},
   "source": [
    "### Train base model"
   ]
  },
  {
   "cell_type": "code",
   "execution_count": 9,
   "metadata": {},
   "outputs": [],
   "source": [
    "train_args, _ = arg_parser_training()\n",
    "model_path = train_args.model_path\n",
    "if train_args.use_pre:\n",
    "    base_model = BaseRecModel(dataset.feature_num, dataset).to(device)\n",
    "    base_model.load_state_dict(torch.load(model_path))\n",
    "else:\n",
    "    base_model = trainmodel(train_args, dataset)"
   ]
  },
  {
   "attachments": {},
   "cell_type": "markdown",
   "metadata": {},
   "source": [
    "### Results of base model"
   ]
  },
  {
   "cell_type": "code",
   "execution_count": 10,
   "metadata": {},
   "outputs": [
    {
     "name": "stdout",
     "output_type": "stream",
     "text": [
      "ndcg : 0.08281956370996058\n",
      "f1 : 0.07831431079894646\n"
     ]
    }
   ],
   "source": [
    "ndcg, f1, _ = eval_model(dataset, 5, base_model, device)\n",
    "print(f\"ndcg : {ndcg}\")\n",
    "print(f\"f1 : {f1}\")"
   ]
  },
  {
   "attachments": {},
   "cell_type": "markdown",
   "metadata": {},
   "source": [
    "### CEF model"
   ]
  },
  {
   "cell_type": "code",
   "execution_count": 11,
   "metadata": {},
   "outputs": [],
   "source": [
    "## stil to do.\n",
    "CEF_args, _ = arg_parser_CEF()\n",
    "model_path = CEF_args.model_path\n",
    "CEF_model = CEF(CEF_args, dataset, base_model).to(device)\n",
    "if CEF_args.use_pre:\n",
    "    CEF_model.load_state_dict(torch.load(model_path))\n",
    "else:\n",
    "    CEF_model = train_delta(CEF_args, CEF_model)"
   ]
  },
  {
   "attachments": {},
   "cell_type": "markdown",
   "metadata": {},
   "source": [
    "### Obtain a list of feature IDs, ranked by explainability score according to the trained CEF model (to clean)"
   ]
  },
  {
   "cell_type": "code",
   "execution_count": 12,
   "metadata": {},
   "outputs": [],
   "source": [
    "# usepre = False\n",
    "# if usepre:\n",
    "#     with open(\"results/ranked_ids.pickle\", \"rb\") as f:\n",
    "#         ranked_ids = pickle.load(f)\n",
    "# else:\n",
    "#     with open(\"results/ranked_ids.pickle\", \"wb\") as f:\n",
    "#         ranked_ids = CEF_model.top_k()\n",
    "#         pickle.dump(ranked_ids, f)"
   ]
  },
  {
   "attachments": {},
   "cell_type": "markdown",
   "metadata": {},
   "source": [
    "### Plot results"
   ]
  },
  {
   "cell_type": "code",
   "execution_count": 13,
   "metadata": {},
   "outputs": [],
   "source": [
    "# result_args, _ = arg_parser_results()\n",
    "# with open(\"results/ranked_ids.pickle\", \"rb\") as f:\n",
    "#     CEF_delete_list = pickle.load(f)\n",
    "# results = get_results(dataset, result_args, base_model,CEF_model, CEF_delete_list)"
   ]
  },
  {
   "cell_type": "code",
   "execution_count": 14,
   "metadata": {},
   "outputs": [],
   "source": [
    "def plot_results(results):\n",
    "    for method in results:\n",
    "        result = results[method]\n",
    "        plt.plot(result[\"lt\"], result[\"ndcg\"], label = method)\n",
    "    \n",
    "    plt.xlabel(\"long tail rate\")\n",
    "    plt.ylabel(\"NDCG\")\n",
    "    plt.legend()\n",
    "    plt.show()"
   ]
  },
  {
   "cell_type": "code",
   "execution_count": 15,
   "metadata": {},
   "outputs": [],
   "source": [
    "# plot_results(results)"
   ]
  },
  {
   "attachments": {},
   "cell_type": "markdown",
   "metadata": {},
   "source": [
    "### Additional work"
   ]
  },
  {
   "cell_type": "code",
   "execution_count": 16,
   "metadata": {},
   "outputs": [
    {
     "name": "stdout",
     "output_type": "stream",
     "text": [
      "test\n",
      "start loading\n",
      "file loaded\n",
      "List reversed\n",
      "0.0\n"
     ]
    },
    {
     "ename": "KeyboardInterrupt",
     "evalue": "",
     "output_type": "error",
     "traceback": [
      "\u001b[1;31m---------------------------------------------------------------------------\u001b[0m",
      "\u001b[1;31mKeyboardInterrupt\u001b[0m                         Traceback (most recent call last)",
      "Cell \u001b[1;32mIn[16], line 2\u001b[0m\n\u001b[0;32m      1\u001b[0m result_args, _ \u001b[39m=\u001b[39m arg_parser_results()\n\u001b[1;32m----> 2\u001b[0m results_beta \u001b[39m=\u001b[39m beta_testing(dataset, result_args, base_model, CEF_model, [\u001b[39m0.01\u001b[39;49m, \u001b[39m0.1\u001b[39;49m, \u001b[39m1\u001b[39;49m])\n",
      "File \u001b[1;32mc:\\Users\\karst\\OneDrive\\Documenten\\uni\\master ai\\year 1\\fact\\code\\FACT_group_5\\scripts\\additional_work\\beta_testing.py:55\u001b[0m, in \u001b[0;36mbeta_testing\u001b[1;34m(dataset, result_args, base_model, CEF_Model, beta_list)\u001b[0m\n\u001b[0;32m     53\u001b[0m CEF_dataset\u001b[39m.\u001b[39mremove_features(idx_list)\n\u001b[0;32m     54\u001b[0m dataset_list[i] \u001b[39m=\u001b[39m CEF_dataset\n\u001b[1;32m---> 55\u001b[0m ndcg_CEF, _ , lt_CEF \u001b[39m=\u001b[39m eval_model(CEF_dataset, k, base_model, device)\n\u001b[0;32m     57\u001b[0m beta \u001b[39m=\u001b[39m beta_list[i]\n\u001b[0;32m     58\u001b[0m key \u001b[39m=\u001b[39m \u001b[39mf\u001b[39m\u001b[39m\"\u001b[39m\u001b[39mCEF_\u001b[39m\u001b[39m{\u001b[39;00mbeta\u001b[39m}\u001b[39;00m\u001b[39m\"\u001b[39m\n",
      "File \u001b[1;32mc:\\Users\\karst\\OneDrive\\Documenten\\uni\\master ai\\year 1\\fact\\code\\FACT_group_5\\scripts\\evaluation\\eval_model.py:22\u001b[0m, in \u001b[0;36meval_model\u001b[1;34m(dataset, k, model, device)\u001b[0m\n\u001b[0;32m     20\u001b[0m user_features \u001b[39m=\u001b[39m np\u001b[39m.\u001b[39marray([user_feature_matrix[user] \u001b[39mfor\u001b[39;00m _ \u001b[39min\u001b[39;00m \u001b[39mrange\u001b[39m(\u001b[39mlen\u001b[39m(items))])\n\u001b[0;32m     21\u001b[0m item_features \u001b[39m=\u001b[39m np\u001b[39m.\u001b[39marray([item_feature_matrix[item] \u001b[39mfor\u001b[39;00m item \u001b[39min\u001b[39;00m items])\n\u001b[1;32m---> 22\u001b[0m scores \u001b[39m=\u001b[39m model(torch\u001b[39m.\u001b[39;49mfrom_numpy(user_features)\u001b[39m.\u001b[39;49mto(device),\n\u001b[0;32m     23\u001b[0m                         torch\u001b[39m.\u001b[39;49mfrom_numpy(item_features)\u001b[39m.\u001b[39;49mto(device))\u001b[39m.\u001b[39msqueeze()\n\u001b[0;32m     24\u001b[0m scores \u001b[39m=\u001b[39m np\u001b[39m.\u001b[39marray(scores\u001b[39m.\u001b[39mto(\u001b[39m'\u001b[39m\u001b[39mcpu\u001b[39m\u001b[39m'\u001b[39m))\n\u001b[0;32m     26\u001b[0m \u001b[39m#ndcg\u001b[39;00m\n",
      "File \u001b[1;32mc:\\Users\\karst\\anaconda3\\envs\\FACT_CPU\\lib\\site-packages\\torch\\nn\\modules\\module.py:1190\u001b[0m, in \u001b[0;36mModule._call_impl\u001b[1;34m(self, *input, **kwargs)\u001b[0m\n\u001b[0;32m   1186\u001b[0m \u001b[39m# If we don't have any hooks, we want to skip the rest of the logic in\u001b[39;00m\n\u001b[0;32m   1187\u001b[0m \u001b[39m# this function, and just call forward.\u001b[39;00m\n\u001b[0;32m   1188\u001b[0m \u001b[39mif\u001b[39;00m \u001b[39mnot\u001b[39;00m (\u001b[39mself\u001b[39m\u001b[39m.\u001b[39m_backward_hooks \u001b[39mor\u001b[39;00m \u001b[39mself\u001b[39m\u001b[39m.\u001b[39m_forward_hooks \u001b[39mor\u001b[39;00m \u001b[39mself\u001b[39m\u001b[39m.\u001b[39m_forward_pre_hooks \u001b[39mor\u001b[39;00m _global_backward_hooks\n\u001b[0;32m   1189\u001b[0m         \u001b[39mor\u001b[39;00m _global_forward_hooks \u001b[39mor\u001b[39;00m _global_forward_pre_hooks):\n\u001b[1;32m-> 1190\u001b[0m     \u001b[39mreturn\u001b[39;00m forward_call(\u001b[39m*\u001b[39m\u001b[39minput\u001b[39m, \u001b[39m*\u001b[39m\u001b[39m*\u001b[39mkwargs)\n\u001b[0;32m   1191\u001b[0m \u001b[39m# Do not call functions when jit is used\u001b[39;00m\n\u001b[0;32m   1192\u001b[0m full_backward_hooks, non_full_backward_hooks \u001b[39m=\u001b[39m [], []\n",
      "File \u001b[1;32mc:\\Users\\karst\\OneDrive\\Documenten\\uni\\master ai\\year 1\\fact\\code\\FACT_group_5\\scripts\\base_model\\models.py:23\u001b[0m, in \u001b[0;36mBaseRecModel.forward\u001b[1;34m(self, user_feature, item_feature)\u001b[0m\n\u001b[0;32m     21\u001b[0m fusion \u001b[39m=\u001b[39m torch\u001b[39m.\u001b[39mmultiply(user_feature, item_feature) \u001b[39m# USED TO BE NP, check base_train\u001b[39;00m\n\u001b[0;32m     22\u001b[0m fusion \u001b[39m=\u001b[39m fusion\u001b[39m.\u001b[39mto(torch\u001b[39m.\u001b[39mfloat32)\n\u001b[1;32m---> 23\u001b[0m out \u001b[39m=\u001b[39m \u001b[39mself\u001b[39;49m\u001b[39m.\u001b[39;49mfc(fusion)\n\u001b[0;32m     24\u001b[0m \u001b[39mreturn\u001b[39;00m out\n",
      "File \u001b[1;32mc:\\Users\\karst\\anaconda3\\envs\\FACT_CPU\\lib\\site-packages\\torch\\nn\\modules\\module.py:1190\u001b[0m, in \u001b[0;36mModule._call_impl\u001b[1;34m(self, *input, **kwargs)\u001b[0m\n\u001b[0;32m   1186\u001b[0m \u001b[39m# If we don't have any hooks, we want to skip the rest of the logic in\u001b[39;00m\n\u001b[0;32m   1187\u001b[0m \u001b[39m# this function, and just call forward.\u001b[39;00m\n\u001b[0;32m   1188\u001b[0m \u001b[39mif\u001b[39;00m \u001b[39mnot\u001b[39;00m (\u001b[39mself\u001b[39m\u001b[39m.\u001b[39m_backward_hooks \u001b[39mor\u001b[39;00m \u001b[39mself\u001b[39m\u001b[39m.\u001b[39m_forward_hooks \u001b[39mor\u001b[39;00m \u001b[39mself\u001b[39m\u001b[39m.\u001b[39m_forward_pre_hooks \u001b[39mor\u001b[39;00m _global_backward_hooks\n\u001b[0;32m   1189\u001b[0m         \u001b[39mor\u001b[39;00m _global_forward_hooks \u001b[39mor\u001b[39;00m _global_forward_pre_hooks):\n\u001b[1;32m-> 1190\u001b[0m     \u001b[39mreturn\u001b[39;00m forward_call(\u001b[39m*\u001b[39m\u001b[39minput\u001b[39m, \u001b[39m*\u001b[39m\u001b[39m*\u001b[39mkwargs)\n\u001b[0;32m   1191\u001b[0m \u001b[39m# Do not call functions when jit is used\u001b[39;00m\n\u001b[0;32m   1192\u001b[0m full_backward_hooks, non_full_backward_hooks \u001b[39m=\u001b[39m [], []\n",
      "File \u001b[1;32mc:\\Users\\karst\\anaconda3\\envs\\FACT_CPU\\lib\\site-packages\\torch\\nn\\modules\\container.py:204\u001b[0m, in \u001b[0;36mSequential.forward\u001b[1;34m(self, input)\u001b[0m\n\u001b[0;32m    202\u001b[0m \u001b[39mdef\u001b[39;00m \u001b[39mforward\u001b[39m(\u001b[39mself\u001b[39m, \u001b[39minput\u001b[39m):\n\u001b[0;32m    203\u001b[0m     \u001b[39mfor\u001b[39;00m module \u001b[39min\u001b[39;00m \u001b[39mself\u001b[39m:\n\u001b[1;32m--> 204\u001b[0m         \u001b[39minput\u001b[39m \u001b[39m=\u001b[39m module(\u001b[39minput\u001b[39;49m)\n\u001b[0;32m    205\u001b[0m     \u001b[39mreturn\u001b[39;00m \u001b[39minput\u001b[39m\n",
      "File \u001b[1;32mc:\\Users\\karst\\anaconda3\\envs\\FACT_CPU\\lib\\site-packages\\torch\\nn\\modules\\module.py:1190\u001b[0m, in \u001b[0;36mModule._call_impl\u001b[1;34m(self, *input, **kwargs)\u001b[0m\n\u001b[0;32m   1186\u001b[0m \u001b[39m# If we don't have any hooks, we want to skip the rest of the logic in\u001b[39;00m\n\u001b[0;32m   1187\u001b[0m \u001b[39m# this function, and just call forward.\u001b[39;00m\n\u001b[0;32m   1188\u001b[0m \u001b[39mif\u001b[39;00m \u001b[39mnot\u001b[39;00m (\u001b[39mself\u001b[39m\u001b[39m.\u001b[39m_backward_hooks \u001b[39mor\u001b[39;00m \u001b[39mself\u001b[39m\u001b[39m.\u001b[39m_forward_hooks \u001b[39mor\u001b[39;00m \u001b[39mself\u001b[39m\u001b[39m.\u001b[39m_forward_pre_hooks \u001b[39mor\u001b[39;00m _global_backward_hooks\n\u001b[0;32m   1189\u001b[0m         \u001b[39mor\u001b[39;00m _global_forward_hooks \u001b[39mor\u001b[39;00m _global_forward_pre_hooks):\n\u001b[1;32m-> 1190\u001b[0m     \u001b[39mreturn\u001b[39;00m forward_call(\u001b[39m*\u001b[39m\u001b[39minput\u001b[39m, \u001b[39m*\u001b[39m\u001b[39m*\u001b[39mkwargs)\n\u001b[0;32m   1191\u001b[0m \u001b[39m# Do not call functions when jit is used\u001b[39;00m\n\u001b[0;32m   1192\u001b[0m full_backward_hooks, non_full_backward_hooks \u001b[39m=\u001b[39m [], []\n",
      "File \u001b[1;32mc:\\Users\\karst\\anaconda3\\envs\\FACT_CPU\\lib\\site-packages\\torch\\nn\\modules\\linear.py:114\u001b[0m, in \u001b[0;36mLinear.forward\u001b[1;34m(self, input)\u001b[0m\n\u001b[0;32m    113\u001b[0m \u001b[39mdef\u001b[39;00m \u001b[39mforward\u001b[39m(\u001b[39mself\u001b[39m, \u001b[39minput\u001b[39m: Tensor) \u001b[39m-\u001b[39m\u001b[39m>\u001b[39m Tensor:\n\u001b[1;32m--> 114\u001b[0m     \u001b[39mreturn\u001b[39;00m F\u001b[39m.\u001b[39;49mlinear(\u001b[39minput\u001b[39;49m, \u001b[39mself\u001b[39;49m\u001b[39m.\u001b[39;49mweight, \u001b[39mself\u001b[39;49m\u001b[39m.\u001b[39;49mbias)\n",
      "\u001b[1;31mKeyboardInterrupt\u001b[0m: "
     ]
    }
   ],
   "source": [
    "result_args, _ = arg_parser_results()\n",
    "results_beta = beta_testing(dataset, result_args, base_model, CEF_model, [0.01, 0.1, 1])"
   ]
  },
  {
   "cell_type": "code",
   "execution_count": null,
   "metadata": {},
   "outputs": [
    {
     "data": {
      "image/png": "[encoded data removed]",
      "text/plain": [
       "<Figure size 640x480 with 1 Axes>"
      ]
     },
     "metadata": {},
     "output_type": "display_data"
    }
   ],
   "source": [
    "plot_results(results_beta)"
   ]
  }
 ],
 "metadata": {
  "kernelspec": {
   "display_name": "FACT_CPU",
   "language": "python",
   "name": "python3"
  },
  "language_info": {
   "codemirror_mode": {
    "name": "ipython",
    "version": 3
   },
   "file_extension": ".py",
   "mimetype": "text/x-python",
   "name": "python",
   "nbconvert_exporter": "python",
   "pygments_lexer": "ipython3",
   "version": "3.10.6"
  },
  "orig_nbformat": 4,
  "vscode": {
   "interpreter": {
    "hash": "c342e54a98a71db42fbd6ae012ac49d71548558fbe3a8689fd9084286f363d46"
   }
  }
 },
 "nbformat": 4,
 "nbformat_minor": 2
}
